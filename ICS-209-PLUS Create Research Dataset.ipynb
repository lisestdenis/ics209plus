{
 "cells": [
  {
   "cell_type": "markdown",
   "metadata": {},
   "source": [
    "### Author: Lise Ann St. Denis, University of Colorado, CIRES, Earth Lab\n",
    "\n",
    "This notebook performs a series of steps to create the ICS-209-PLUS research dataset.  \n",
    "**Step 1) Concatenate all annual files contained in corresponding annual directories into single file per table using ics209concat.concat_annual_files() **\n",
    "        \n",
    "        outputs: all annual files concatenated into single files - see paper for list of tables  \n",
    "        \n",
    "**Step 2a) Prepare Historical System 1 dataset (1999 to 2002) for merge using ics209hist1.historical1_merge_prep()**  \n",
    "\n",
    "        outputs: IMSR_INCIDENT_INFORMATIONS_1999to2002_cleaned.csv  \n",
    "                 IMSR_INCIDENT_INFORMATIONS_1999to2002_deleted.csv\n",
    "                 \n",
    "**Step 2b) Prepare Historical System 2 dataset (2001 to 2013) for merge using ics209hist2.historical2_merge_prep()**  \n",
    "        \n",
    "        outputs: IMSR_IMSR_209_INCIDENTS_2001to2013_cleaned.csv  \n",
    "                 IMSR_IMSR_209_INCIDENTS_2001to2013_deleted.csv  \n",
    "                 \n",
    "**Step 2c) Prepare Current System dataset (2014) for merge for merge using ics209curr.current_merge_prep()  **\n",
    "        \n",
    "        outputs: SIT209_HISTORY_INCIDENT_209_REPORTS_2014_cleaned.csv  \n",
    "        \n",
    "**Step 3) Create final datasets using ics209merge.create_final_datasets()  **\n",
    "        \n",
    "        outputs: ics209plus_allsitreps_1999to2014.csv\n",
    "                 ics209plus_allWFsitreps_1999to2014.csv\n",
    "                 ics209plus_allWFincidents_1999to2014.csv\n",
    "                 ics209plus_complex_assocs1999to2013.csv"
   ]
  },
  {
   "cell_type": "code",
   "execution_count": null,
   "metadata": {},
   "outputs": [],
   "source": [
    "import ics209concat\n",
    "import ics209hist1\n",
    "import ics209hist2\n",
    "import ics209curr\n",
    "import ics209merge\n",
    "import ics209util\n",
    "\n",
    "ics209concat.concatenate_annual_files() # Step1\n",
    "ics209hist1.historical1_merge_prep() # Step 2A\n",
    "ics209hist2.historical2_merge_prep() # Step 2B\n",
    "ics209curr.current_merge_prep() # Step 2C\n",
    "ics209merge.create_final_datasets() # Step 3"
   ]
  }
 ],
 "metadata": {
  "kernelspec": {
   "display_name": "Python 3",
   "language": "python",
   "name": "python3"
  },
  "language_info": {
   "codemirror_mode": {
    "name": "ipython",
    "version": 3
   },
   "file_extension": ".py",
   "mimetype": "text/x-python",
   "name": "python",
   "nbconvert_exporter": "python",
   "pygments_lexer": "ipython3",
   "version": "3.8.5"
  }
 },
 "nbformat": 4,
 "nbformat_minor": 2
}
